{
 "cells": [
  {
   "cell_type": "code",
   "execution_count": 2,
   "metadata": {},
   "outputs": [
    {
     "name": "stdout",
     "output_type": "stream",
     "text": [
      "Math:80\n",
      "Physics:80\n",
      "Calculus:80\n",
      "Oop:80\n",
      "Cs:80\n",
      "Total Marks:  400\n",
      "Percentage:  80.0 %\n",
      "C Grade\n"
     ]
    }
   ],
   "source": [
    "sub1 = int(input(\"Math:\"))\n",
    "sub2 = int(input(\"Physics:\"))\n",
    "sub3 = int(input(\"Calculus:\"))\n",
    "sub4 = int(input(\"Oop:\"))\n",
    "sub5 = int(input(\"Cs:\"))\n",
    "\n",
    "total = (sub1+sub2+sub3+sub4+sub5)\n",
    "\n",
    "print(\"Total Marks: \",total)\n",
    "maxMarks = 500\n",
    "percentage = (total/maxMarks) * 100\n",
    "\n",
    "if percentage >= 50:\n",
    " print(\"Percentage: \",percentage,\"%\")\n",
    " print(\"C Grade\") \n",
    "elif percentage >= 60:\n",
    " print(\"Percentage: \",percentage,\"%\")\n",
    " print(\"B Grade\")\n",
    "elif percentage >= 70: \n",
    " print(\"Percentage: \",percentage,\"%\")\n",
    " print(\"A Grade\")\n",
    "elif percentage >= 50: \n",
    " print(\"Percentage: \",percentage,\"%\")\n",
    " print(\"A+ Grade\")\n",
    "else:\n",
    " print(\"Percentage: \",percentage,\"%\")\n",
    " print(\"F Grade\")\n"
   ]
  },
  {
   "cell_type": "code",
   "execution_count": 3,
   "metadata": {},
   "outputs": [
    {
     "name": "stdout",
     "output_type": "stream",
     "text": [
      "Enter your digit:5\n",
      "ODD\n"
     ]
    }
   ],
   "source": [
    "n = int(input(\"Enter your digit:\"))\n",
    "\n",
    "if n%2 == 0:\n",
    " print(\"EVEN\")\n",
    "else:\n",
    " print(\"ODD\")\n"
   ]
  },
  {
   "cell_type": "code",
   "execution_count": 4,
   "metadata": {},
   "outputs": [
    {
     "name": "stdout",
     "output_type": "stream",
     "text": [
      "['1', '2', '3']\n",
      "Length of list:  3\n"
     ]
    }
   ],
   "source": [
    "list = [\"1\", \"2\", \"3\"]\n",
    "\n",
    "print(list)\n",
    "print(\"Length of list: \",len(list))\n"
   ]
  },
  {
   "cell_type": "code",
   "execution_count": 5,
   "metadata": {},
   "outputs": [
    {
     "name": "stdout",
     "output_type": "stream",
     "text": [
      "[1, 2, 3, 4, 5]\n",
      "Sum of all in list:  15\n"
     ]
    }
   ],
   "source": [
    "list = [1, 2, 3, 4, 5]\n",
    "\n",
    "sum = sum(list)\n",
    "\n",
    "print(list)\n",
    "print(\"Sum of all in list: \",sum)\n"
   ]
  },
  {
   "cell_type": "code",
   "execution_count": 6,
   "metadata": {},
   "outputs": [
    {
     "name": "stdout",
     "output_type": "stream",
     "text": [
      "[1, 99, 145, 21]\n",
      "largest no is: 145\n"
     ]
    }
   ],
   "source": [
    "list = [1, 99, 145, 21]\n",
    "print(list)\n",
    "print(\"largest no is:\",max(list))\n"
   ]
  },
  {
   "cell_type": "code",
   "execution_count": 7,
   "metadata": {},
   "outputs": [
    {
     "name": "stdout",
     "output_type": "stream",
     "text": [
      "[1, 1, 2, 3, 4, 8, 13, 21, 34, 55, 89]\n",
      "1\n",
      "1\n",
      "2\n",
      "3\n",
      "4\n"
     ]
    }
   ],
   "source": [
    "a = [1,1,2,3,4,8,13,21,34,55,89]\n",
    "\n",
    "print(a)\n",
    "\n",
    "for i in a:\n",
    " if i<5:\n",
    "  print(i)\n"
   ]
  },
  {
   "cell_type": "code",
   "execution_count": null,
   "metadata": {},
   "outputs": [],
   "source": []
  }
 ],
 "metadata": {
  "kernelspec": {
   "display_name": "Python 3",
   "language": "python",
   "name": "python3"
  },
  "language_info": {
   "codemirror_mode": {
    "name": "ipython",
    "version": 3
   },
   "file_extension": ".py",
   "mimetype": "text/x-python",
   "name": "python",
   "nbconvert_exporter": "python",
   "pygments_lexer": "ipython3",
   "version": "3.7.3"
  }
 },
 "nbformat": 4,
 "nbformat_minor": 2
}
