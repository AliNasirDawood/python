{
 "cells": [
  {
   "cell_type": "code",
   "execution_count": 1,
   "metadata": {},
   "outputs": [],
   "source": [
    "import math\n",
    "import pandas as pd\n",
    "import numpy as np\n",
    "import os\n",
    "# print(os.listdir(\"../input\"))\n",
    "\n",
    "# Any results you write to the current directory are saved as output.\n",
    "import itertools\n",
    "import os\n",
    "\n",
    "%matplotlib inline\n",
    "import matplotlib.pyplot as plt\n",
    "\n",
    "import tensorflow as tf\n",
    "\n",
    "from sklearn.preprocessing import LabelBinarizer, LabelEncoder\n",
    "from sklearn.metrics import confusion_matrix\n",
    "\n",
    "from tensorflow import keras\n",
    "layers = keras.layers\n",
    "models = keras.models"
   ]
  },
  {
   "cell_type": "code",
   "execution_count": 2,
   "metadata": {},
   "outputs": [
    {
     "name": "stdout",
     "output_type": "stream",
     "text": [
      "(208, 61)\n"
     ]
    },
    {
     "data": {
      "text/plain": [
       "208"
      ]
     },
     "execution_count": 2,
     "metadata": {},
     "output_type": "execute_result"
    }
   ],
   "source": [
    "data = pd.read_csv(\"sonar.csv\", header=None)\n",
    "data.head()\n",
    "copy1 = data.copy()\n",
    "print(data.shape)\n",
    "len(data)\n"
   ]
  },
  {
   "cell_type": "code",
   "execution_count": 3,
   "metadata": {},
   "outputs": [
    {
     "name": "stdout",
     "output_type": "stream",
     "text": [
      "[[0.0179 0.0136 0.0408 ... 0.016 0.0085 'M']\n",
      " [0.0126 0.0519 0.0621 ... 0.0114 0.0077 'R']\n",
      " [0.043 0.0902 0.0833 ... 0.0059 0.0021 'M']\n",
      " ...\n",
      " [0.0264 0.0071 0.0342 ... 0.0078 0.0066 'M']\n",
      " [0.0217 0.0152 0.0346 ... 0.0022 0.0032 'M']\n",
      " [0.0093 0.0185 0.0056 ... 0.0058 0.0025 'R']]\n"
     ]
    },
    {
     "data": {
      "text/plain": [
       "208"
      ]
     },
     "execution_count": 3,
     "metadata": {},
     "output_type": "execute_result"
    }
   ],
   "source": [
    "dt = np.array(data)\n",
    "shuffle_dt= np.random.shuffle(dt)\n",
    "print(dt)\n",
    "len(dt)\n"
   ]
  },
  {
   "cell_type": "code",
   "execution_count": 4,
   "metadata": {},
   "outputs": [
    {
     "name": "stdout",
     "output_type": "stream",
     "text": [
      "145\n",
      "41\n",
      "20\n"
     ]
    },
    {
     "data": {
      "text/plain": [
       "206"
      ]
     },
     "execution_count": 4,
     "metadata": {},
     "output_type": "execute_result"
    }
   ],
   "source": [
    "train_size=math.floor(int(len(dt)*.7))\n",
    "print(train_size)\n",
    "test_size = math.floor(int(len(dt)*.2))\n",
    "print(test_size)\n",
    "validation_size = math.floor (int(len(dt)*.1))\n",
    "print(validation_size)\n",
    "\n",
    "145+41+20"
   ]
  },
  {
   "cell_type": "code",
   "execution_count": 5,
   "metadata": {},
   "outputs": [
    {
     "name": "stdout",
     "output_type": "stream",
     "text": [
      "None\n",
      "[[0.0179 0.0136 0.0408 ... 0.0155 0.016  0.0085]\n",
      " [0.0126 0.0519 0.0621 ... 0.0034 0.0114 0.0077]\n",
      " [0.043  0.0902 0.0833 ... 0.0162 0.0059 0.0021]\n",
      " ...\n",
      " [0.0473 0.0509 0.0819 ... 0.0082 0.0028 0.0027]\n",
      " [0.0195 0.0142 0.0181 ... 0.0042 0.0067 0.0012]\n",
      " [0.0208 0.0186 0.0131 ... 0.0019 0.0049 0.0023]]\n",
      "145\n",
      "float64\n",
      "[[0.0039 0.0063 0.0152 ... 0.0003 0.0053 0.0036]\n",
      " [0.0394 0.042  0.0446 ... 0.0068 0.0053 0.0087]\n",
      " [0.0353 0.0713 0.0326 ... 0.0096 0.0093 0.0053]\n",
      " ...\n",
      " [0.0303 0.0353 0.049  ... 0.0079 0.0036 0.0048]\n",
      " [0.0126 0.0149 0.0641 ... 0.0094 0.0116 0.0063]\n",
      " [0.0162 0.0041 0.0239 ... 0.0036 0.0053 0.003 ]]\n",
      "40\n",
      "[[0.0137 0.0297 0.0116 ... 0.0035 0.0043 0.0033]\n",
      " [0.0336 0.0294 0.0476 ... 0.0015 0.0069 0.0051]\n",
      " [0.0201 0.0178 0.0274 ... 0.002  0.0048 0.0036]\n",
      " ...\n",
      " [0.0202 0.0104 0.0325 ... 0.0054 0.0073 0.0054]\n",
      " [0.0231 0.0351 0.003  ... 0.0038 0.0043 0.003 ]\n",
      " [0.0096 0.0404 0.0682 ... 0.0036 0.0043 0.0018]]\n",
      "20\n"
     ]
    }
   ],
   "source": [
    "print(shuffle_dt)\n",
    "train_data= dt[:train_size, :60].astype('float')\n",
    "print(train_data)\n",
    "print(len(train_data))\n",
    "print(train_data.dtype)\n",
    "test_data=dt[train_size:185,:60].astype('float')\n",
    "print(test_data)\n",
    "print(len(test_data))\n",
    "validation_data = dt[185:205,:60].astype('float')\n",
    "print(validation_data)   \n",
    "print(len(validation_data))\n"
   ]
  },
  {
   "cell_type": "code",
   "execution_count": null,
   "metadata": {},
   "outputs": [],
   "source": []
  },
  {
   "cell_type": "code",
   "execution_count": 6,
   "metadata": {},
   "outputs": [
    {
     "name": "stdout",
     "output_type": "stream",
     "text": [
      "['M' 'R' 'M' 'M' 'M' 'R' 'R' 'M' 'M' 'M' 'M' 'M' 'R' 'R' 'R' 'R' 'R' 'R'\n",
      " 'M' 'R' 'M' 'M' 'R' 'M' 'M' 'R' 'R' 'R' 'R' 'R' 'R' 'R' 'M' 'M' 'M' 'R'\n",
      " 'R' 'R' 'M' 'R' 'M' 'R' 'R' 'M' 'R' 'M' 'R' 'R' 'R' 'M' 'R' 'M' 'M' 'R'\n",
      " 'R' 'M' 'R' 'M' 'R' 'M' 'R' 'M' 'M' 'M' 'R' 'R' 'R' 'M' 'R' 'M' 'R' 'R'\n",
      " 'R' 'M' 'M' 'M' 'R' 'M' 'M' 'M' 'M' 'M' 'M' 'R' 'M' 'M' 'R' 'R' 'M' 'R'\n",
      " 'R' 'M' 'R' 'R' 'R' 'M' 'M' 'M' 'M' 'R' 'M' 'M' 'M' 'M' 'R' 'R' 'M' 'M'\n",
      " 'R' 'R' 'M' 'M' 'R' 'R' 'R' 'R' 'M' 'M' 'R' 'M' 'M' 'M' 'R' 'M' 'M' 'R'\n",
      " 'R' 'M' 'M' 'M' 'R' 'R' 'M' 'M' 'M' 'M' 'R' 'M' 'M' 'M' 'R' 'R' 'R' 'R'\n",
      " 'R']\n",
      "145\n",
      "['R' 'M' 'R' 'M' 'M' 'M' 'M' 'M' 'M' 'M' 'R' 'R' 'M' 'M' 'R' 'M' 'R' 'M'\n",
      " 'R' 'M' 'M' 'M' 'R' 'M' 'M' 'M' 'R' 'R' 'R' 'M' 'M' 'R' 'M' 'R' 'M' 'R'\n",
      " 'M' 'M' 'R' 'M']\n",
      "40\n",
      "['M' 'R' 'M' 'R' 'R' 'M' 'M' 'M' 'R' 'M' 'R' 'M' 'R' 'M' 'M' 'R' 'R' 'R'\n",
      " 'R' 'M']\n",
      "20\n"
     ]
    }
   ],
   "source": [
    "train_label = dt[:train_size, 60]\n",
    "print(train_label)\n",
    "print(len(train_label))\n",
    "test_label=dt[train_size:185,60]\n",
    "print(test_label)\n",
    "print(len(test_label))\n",
    "validation_label = dt[185:205,60]\n",
    "print(validation_label)\n",
    "print(len(validation_label))"
   ]
  },
  {
   "cell_type": "code",
   "execution_count": 7,
   "metadata": {},
   "outputs": [
    {
     "name": "stderr",
     "output_type": "stream",
     "text": [
      "C:\\Users\\alida\\Anaconda3\\lib\\site-packages\\sklearn\\preprocessing\\label.py:219: DataConversionWarning: A column-vector y was passed when a 1d array was expected. Please change the shape of y to (n_samples, ), for example using ravel().\n",
      "  y = column_or_1d(y, warn=True)\n"
     ]
    }
   ],
   "source": [
    "\n",
    "\n",
    "encoder = LabelEncoder()\n",
    "encoder.fit(dt[:,60:61])\n",
    "\n",
    "y_train = encoder.transform(train_label)\n",
    "y_train_v = encoder.transform(validation_label)\n",
    "y_test = encoder.transform(test_label)\n",
    "\n"
   ]
  },
  {
   "cell_type": "code",
   "execution_count": 8,
   "metadata": {},
   "outputs": [
    {
     "name": "stdout",
     "output_type": "stream",
     "text": [
      "[[0.0179 0.0136 0.0408 ... 0.0155 0.016  0.0085]\n",
      " [0.0126 0.0519 0.0621 ... 0.0034 0.0114 0.0077]\n",
      " [0.043  0.0902 0.0833 ... 0.0162 0.0059 0.0021]\n",
      " ...\n",
      " [0.0473 0.0509 0.0819 ... 0.0082 0.0028 0.0027]\n",
      " [0.0195 0.0142 0.0181 ... 0.0042 0.0067 0.0012]\n",
      " [0.0208 0.0186 0.0131 ... 0.0019 0.0049 0.0023]]\n",
      "[0 1 0 0 0 1 1 0 0 0 0 0 1 1 1 1 1 1 0 1 0 0 1 0 0 1 1 1 1 1 1 1 0 0 0 1 1\n",
      " 1 0 1 0 1 1 0 1 0 1 1 1 0 1 0 0 1 1 0 1 0 1 0 1 0 0 0 1 1 1 0 1 0 1 1 1 0\n",
      " 0 0 1 0 0 0 0 0 0 1 0 0 1 1 0 1 1 0 1 1 1 0 0 0 0 1 0 0 0 0 1 1 0 0 1 1 0\n",
      " 0 1 1 1 1 0 0 1 0 0 0 1 0 0 1 1 0 0 0 1 1 0 0 0 0 1 0 0 0 1 1 1 1 1]\n"
     ]
    }
   ],
   "source": [
    "print(train_data)\n",
    "print(y_train)"
   ]
  },
  {
   "cell_type": "code",
   "execution_count": 9,
   "metadata": {},
   "outputs": [
    {
     "name": "stdout",
     "output_type": "stream",
     "text": [
      "Train on 145 samples\n",
      "Epoch 1/80\n",
      "145/145 [==============================] - 2s 15ms/sample - loss: 0.7053 - accuracy: 0.5103\n",
      "Epoch 2/80\n",
      "145/145 [==============================] - 0s 45us/sample - loss: 0.6987 - accuracy: 0.5103\n",
      "Epoch 3/80\n",
      "145/145 [==============================] - 0s 31us/sample - loss: 0.6947 - accuracy: 0.5103\n",
      "Epoch 4/80\n",
      "145/145 [==============================] - 0s 61us/sample - loss: 0.6917 - accuracy: 0.5103\n",
      "Epoch 5/80\n",
      "145/145 [==============================] - 0s 34us/sample - loss: 0.6888 - accuracy: 0.5103\n",
      "Epoch 6/80\n",
      "145/145 [==============================] - 0s 88us/sample - loss: 0.6862 - accuracy: 0.5103\n",
      "Epoch 7/80\n",
      "145/145 [==============================] - 0s 54us/sample - loss: 0.6840 - accuracy: 0.5103\n",
      "Epoch 8/80\n",
      "145/145 [==============================] - 0s 34us/sample - loss: 0.6822 - accuracy: 0.5103\n",
      "Epoch 9/80\n",
      "145/145 [==============================] - 0s 42us/sample - loss: 0.6806 - accuracy: 0.5103\n",
      "Epoch 10/80\n",
      "145/145 [==============================] - 0s 51us/sample - loss: 0.6792 - accuracy: 0.5172\n",
      "Epoch 11/80\n",
      "145/145 [==============================] - 0s 29us/sample - loss: 0.6781 - accuracy: 0.5241\n",
      "Epoch 12/80\n",
      "145/145 [==============================] - 0s 55us/sample - loss: 0.6768 - accuracy: 0.5172\n",
      "Epoch 13/80\n",
      "145/145 [==============================] - 0s 69us/sample - loss: 0.6756 - accuracy: 0.5379\n",
      "Epoch 14/80\n",
      "145/145 [==============================] - 0s 59us/sample - loss: 0.6744 - accuracy: 0.5379\n",
      "Epoch 15/80\n",
      "145/145 [==============================] - 0s 64us/sample - loss: 0.6732 - accuracy: 0.5379\n",
      "Epoch 16/80\n",
      "145/145 [==============================] - 0s 51us/sample - loss: 0.6720 - accuracy: 0.5517\n",
      "Epoch 17/80\n",
      "145/145 [==============================] - 0s 61us/sample - loss: 0.6707 - accuracy: 0.5517\n",
      "Epoch 18/80\n",
      "145/145 [==============================] - 0s 65us/sample - loss: 0.6694 - accuracy: 0.5586\n",
      "Epoch 19/80\n",
      "145/145 [==============================] - 0s 14us/sample - loss: 0.6681 - accuracy: 0.5655\n",
      "Epoch 20/80\n",
      "145/145 [==============================] - 0s 52us/sample - loss: 0.6668 - accuracy: 0.5655\n",
      "Epoch 21/80\n",
      "145/145 [==============================] - 0s 43us/sample - loss: 0.6656 - accuracy: 0.5655\n",
      "Epoch 22/80\n",
      "145/145 [==============================] - 0s 40us/sample - loss: 0.6640 - accuracy: 0.5655\n",
      "Epoch 23/80\n",
      "145/145 [==============================] - 0s 60us/sample - loss: 0.6625 - accuracy: 0.5517\n",
      "Epoch 24/80\n",
      "145/145 [==============================] - 0s 39us/sample - loss: 0.6609 - accuracy: 0.5724\n",
      "Epoch 25/80\n",
      "145/145 [==============================] - 0s 35us/sample - loss: 0.6591 - accuracy: 0.5517\n",
      "Epoch 26/80\n",
      "145/145 [==============================] - 0s 48us/sample - loss: 0.6570 - accuracy: 0.5379\n",
      "Epoch 27/80\n",
      "145/145 [==============================] - 0s 46us/sample - loss: 0.6545 - accuracy: 0.5379\n",
      "Epoch 28/80\n",
      "145/145 [==============================] - 0s 87us/sample - loss: 0.6526 - accuracy: 0.5379\n",
      "Epoch 29/80\n",
      "145/145 [==============================] - 0s 39us/sample - loss: 0.6510 - accuracy: 0.5586\n",
      "Epoch 30/80\n",
      "145/145 [==============================] - 0s 49us/sample - loss: 0.6498 - accuracy: 0.5517\n",
      "Epoch 31/80\n",
      "145/145 [==============================] - 0s 26us/sample - loss: 0.6486 - accuracy: 0.5793\n",
      "Epoch 32/80\n",
      "145/145 [==============================] - 0s 27us/sample - loss: 0.6470 - accuracy: 0.5586\n",
      "Epoch 33/80\n",
      "145/145 [==============================] - 0s 40us/sample - loss: 0.6456 - accuracy: 0.5724\n",
      "Epoch 34/80\n",
      "145/145 [==============================] - 0s 57us/sample - loss: 0.6443 - accuracy: 0.5724\n",
      "Epoch 35/80\n",
      "145/145 [==============================] - 0s 58us/sample - loss: 0.6430 - accuracy: 0.5793\n",
      "Epoch 36/80\n",
      "145/145 [==============================] - 0s 47us/sample - loss: 0.6416 - accuracy: 0.5862\n",
      "Epoch 37/80\n",
      "145/145 [==============================] - 0s 43us/sample - loss: 0.6403 - accuracy: 0.5931\n",
      "Epoch 38/80\n",
      "145/145 [==============================] - 0s 47us/sample - loss: 0.6389 - accuracy: 0.5931\n",
      "Epoch 39/80\n",
      "145/145 [==============================] - 0s 63us/sample - loss: 0.6376 - accuracy: 0.6069\n",
      "Epoch 40/80\n",
      "145/145 [==============================] - 0s 31us/sample - loss: 0.6362 - accuracy: 0.6207\n",
      "Epoch 41/80\n",
      "145/145 [==============================] - 0s 42us/sample - loss: 0.6351 - accuracy: 0.6000\n",
      "Epoch 42/80\n",
      "145/145 [==============================] - 0s 42us/sample - loss: 0.6337 - accuracy: 0.6276\n",
      "Epoch 43/80\n",
      "145/145 [==============================] - 0s 54us/sample - loss: 0.6326 - accuracy: 0.6069\n",
      "Epoch 44/80\n",
      "145/145 [==============================] - 0s 34us/sample - loss: 0.6311 - accuracy: 0.6345\n",
      "Epoch 45/80\n",
      "145/145 [==============================] - 0s 57us/sample - loss: 0.6300 - accuracy: 0.6138\n",
      "Epoch 46/80\n",
      "145/145 [==============================] - 0s 51us/sample - loss: 0.6287 - accuracy: 0.6345\n",
      "Epoch 47/80\n",
      "145/145 [==============================] - 0s 58us/sample - loss: 0.6278 - accuracy: 0.6207\n",
      "Epoch 48/80\n",
      "145/145 [==============================] - 0s 70us/sample - loss: 0.6261 - accuracy: 0.6414\n",
      "Epoch 49/80\n",
      "145/145 [==============================] - 0s 40us/sample - loss: 0.6249 - accuracy: 0.6345\n",
      "Epoch 50/80\n",
      "145/145 [==============================] - 0s 37us/sample - loss: 0.6237 - accuracy: 0.6552\n",
      "Epoch 51/80\n",
      "145/145 [==============================] - 0s 46us/sample - loss: 0.6226 - accuracy: 0.6345\n",
      "Epoch 52/80\n",
      "145/145 [==============================] - 0s 37us/sample - loss: 0.6213 - accuracy: 0.6621\n",
      "Epoch 53/80\n",
      "145/145 [==============================] - 0s 53us/sample - loss: 0.6201 - accuracy: 0.6345\n",
      "Epoch 54/80\n",
      "145/145 [==============================] - 0s 36us/sample - loss: 0.6188 - accuracy: 0.6621\n",
      "Epoch 55/80\n",
      "145/145 [==============================] - 0s 285us/sample - loss: 0.6176 - accuracy: 0.6552\n",
      "Epoch 56/80\n",
      "145/145 [==============================] - 0s 37us/sample - loss: 0.6161 - accuracy: 0.6759\n",
      "Epoch 57/80\n",
      "145/145 [==============================] - 0s 37us/sample - loss: 0.6149 - accuracy: 0.6552\n",
      "Epoch 58/80\n",
      "145/145 [==============================] - 0s 48us/sample - loss: 0.6133 - accuracy: 0.6897\n",
      "Epoch 59/80\n",
      "145/145 [==============================] - 0s 56us/sample - loss: 0.6118 - accuracy: 0.6621\n",
      "Epoch 60/80\n",
      "145/145 [==============================] - 0s 38us/sample - loss: 0.6103 - accuracy: 0.6897\n",
      "Epoch 61/80\n",
      "145/145 [==============================] - 0s 55us/sample - loss: 0.6089 - accuracy: 0.6690\n",
      "Epoch 62/80\n",
      "145/145 [==============================] - 0s 39us/sample - loss: 0.6075 - accuracy: 0.6690\n",
      "Epoch 63/80\n",
      "145/145 [==============================] - 0s 66us/sample - loss: 0.6063 - accuracy: 0.6690\n",
      "Epoch 64/80\n",
      "145/145 [==============================] - 0s 70us/sample - loss: 0.6049 - accuracy: 0.6966\n",
      "Epoch 65/80\n",
      "145/145 [==============================] - 0s 31us/sample - loss: 0.6035 - accuracy: 0.6690\n",
      "Epoch 66/80\n",
      "145/145 [==============================] - 0s 49us/sample - loss: 0.6023 - accuracy: 0.6828\n",
      "Epoch 67/80\n",
      "145/145 [==============================] - 0s 47us/sample - loss: 0.6009 - accuracy: 0.6759\n",
      "Epoch 68/80\n",
      "145/145 [==============================] - 0s 48us/sample - loss: 0.5995 - accuracy: 0.6759\n",
      "Epoch 69/80\n",
      "145/145 [==============================] - 0s 51us/sample - loss: 0.5982 - accuracy: 0.6828\n",
      "Epoch 70/80\n",
      "145/145 [==============================] - 0s 50us/sample - loss: 0.5970 - accuracy: 0.6897\n",
      "Epoch 71/80\n",
      "145/145 [==============================] - 0s 62us/sample - loss: 0.5957 - accuracy: 0.6966\n",
      "Epoch 72/80\n",
      "145/145 [==============================] - 0s 50us/sample - loss: 0.5942 - accuracy: 0.6966\n",
      "Epoch 73/80\n",
      "145/145 [==============================] - 0s 54us/sample - loss: 0.5929 - accuracy: 0.6966\n",
      "Epoch 74/80\n",
      "145/145 [==============================] - 0s 25us/sample - loss: 0.5915 - accuracy: 0.6966\n",
      "Epoch 75/80\n",
      "145/145 [==============================] - 0s 46us/sample - loss: 0.5904 - accuracy: 0.7034\n",
      "Epoch 76/80\n",
      "145/145 [==============================] - 0s 48us/sample - loss: 0.5894 - accuracy: 0.6621\n",
      "Epoch 77/80\n",
      "145/145 [==============================] - 0s 58us/sample - loss: 0.5881 - accuracy: 0.7241\n",
      "Epoch 78/80\n",
      "145/145 [==============================] - 0s 56us/sample - loss: 0.5868 - accuracy: 0.6690\n",
      "Epoch 79/80\n",
      "145/145 [==============================] - 0s 57us/sample - loss: 0.5853 - accuracy: 0.7172\n"
     ]
    },
    {
     "name": "stdout",
     "output_type": "stream",
     "text": [
      "Epoch 80/80\n",
      "145/145 [==============================] - 0s 60us/sample - loss: 0.5841 - accuracy: 0.6897\n"
     ]
    }
   ],
   "source": [
    "epoch = 80\n",
    "model = models.Sequential()\n",
    "model.add(layers.Dense(16, activation='relu', input_shape=(60,)))\n",
    "model.add(layers.Dense(8, activation='relu'))\n",
    "model.add(layers.Dense(1, activation='sigmoid'))\n",
    "model.compile(optimizer = 'rmsprop' ,loss='binary_crossentropy',metrics=['accuracy'])\n",
    "history = model.fit(train_data,\n",
    "    y_train,\n",
    "    epochs=epoch,\n",
    "    batch_size=512)\n"
   ]
  },
  {
   "cell_type": "code",
   "execution_count": 10,
   "metadata": {},
   "outputs": [
    {
     "data": {
      "text/plain": [
       "dict_keys(['loss', 'accuracy'])"
      ]
     },
     "execution_count": 10,
     "metadata": {},
     "output_type": "execute_result"
    }
   ],
   "source": [
    "history_dict = history.history\n",
    "history_dict.keys()\n"
   ]
  },
  {
   "cell_type": "code",
   "execution_count": 11,
   "metadata": {},
   "outputs": [
    {
     "name": "stdout",
     "output_type": "stream",
     "text": [
      "Train on 145 samples, validate on 20 samples\n",
      "Epoch 1/80\n",
      "145/145 [==============================] - 0s 3ms/sample - loss: 0.5864 - accuracy: 0.6828 - val_loss: 0.6074 - val_accuracy: 0.7500\n",
      "Epoch 2/80\n",
      "145/145 [==============================] - 0s 767us/sample - loss: 0.5810 - accuracy: 0.7586 - val_loss: 0.5983 - val_accuracy: 0.6500\n",
      "Epoch 3/80\n",
      "145/145 [==============================] - 0s 542us/sample - loss: 0.5733 - accuracy: 0.7379 - val_loss: 0.5968 - val_accuracy: 0.6500\n",
      "Epoch 4/80\n",
      "145/145 [==============================] - 0s 519us/sample - loss: 0.5640 - accuracy: 0.7448 - val_loss: 0.6121 - val_accuracy: 0.6000\n",
      "Epoch 5/80\n",
      "145/145 [==============================] - 0s 544us/sample - loss: 0.5598 - accuracy: 0.7034 - val_loss: 0.5882 - val_accuracy: 0.7000\n",
      "Epoch 6/80\n",
      "145/145 [==============================] - 0s 740us/sample - loss: 0.5504 - accuracy: 0.7310 - val_loss: 0.5847 - val_accuracy: 0.8000\n",
      "Epoch 7/80\n",
      "145/145 [==============================] - 0s 615us/sample - loss: 0.5478 - accuracy: 0.7931 - val_loss: 0.5825 - val_accuracy: 0.6500\n",
      "Epoch 8/80\n",
      "145/145 [==============================] - 0s 491us/sample - loss: 0.5372 - accuracy: 0.7586 - val_loss: 0.5699 - val_accuracy: 0.7000\n",
      "Epoch 9/80\n",
      "145/145 [==============================] - 0s 578us/sample - loss: 0.5294 - accuracy: 0.7724 - val_loss: 0.5820 - val_accuracy: 0.6500\n",
      "Epoch 10/80\n",
      "145/145 [==============================] - 0s 842us/sample - loss: 0.5231 - accuracy: 0.7931 - val_loss: 0.5652 - val_accuracy: 0.7000\n",
      "Epoch 11/80\n",
      "145/145 [==============================] - 0s 757us/sample - loss: 0.5151 - accuracy: 0.8414 - val_loss: 0.5584 - val_accuracy: 0.8000\n",
      "Epoch 12/80\n",
      "145/145 [==============================] - 0s 618us/sample - loss: 0.5067 - accuracy: 0.8207 - val_loss: 0.5552 - val_accuracy: 0.7500\n",
      "Epoch 13/80\n",
      "145/145 [==============================] - 0s 586us/sample - loss: 0.4997 - accuracy: 0.8276 - val_loss: 0.5664 - val_accuracy: 0.6500\n",
      "Epoch 14/80\n",
      "145/145 [==============================] - 0s 607us/sample - loss: 0.4951 - accuracy: 0.8069 - val_loss: 0.5600 - val_accuracy: 0.6500\n",
      "Epoch 15/80\n",
      "145/145 [==============================] - 0s 580us/sample - loss: 0.4883 - accuracy: 0.8069 - val_loss: 0.5397 - val_accuracy: 0.7500\n",
      "Epoch 16/80\n",
      "145/145 [==============================] - 0s 574us/sample - loss: 0.4738 - accuracy: 0.8483 - val_loss: 0.5568 - val_accuracy: 0.7000\n",
      "Epoch 17/80\n",
      "145/145 [==============================] - 0s 616us/sample - loss: 0.4707 - accuracy: 0.8483 - val_loss: 0.5640 - val_accuracy: 0.7500\n",
      "Epoch 18/80\n",
      "145/145 [==============================] - 0s 575us/sample - loss: 0.4645 - accuracy: 0.8483 - val_loss: 0.5473 - val_accuracy: 0.7500\n",
      "Epoch 19/80\n",
      "145/145 [==============================] - 0s 551us/sample - loss: 0.4577 - accuracy: 0.8552 - val_loss: 0.5493 - val_accuracy: 0.7500\n",
      "Epoch 20/80\n",
      "145/145 [==============================] - 0s 519us/sample - loss: 0.4557 - accuracy: 0.8552 - val_loss: 0.5340 - val_accuracy: 0.7500\n",
      "Epoch 21/80\n",
      "145/145 [==============================] - 0s 595us/sample - loss: 0.4453 - accuracy: 0.8759 - val_loss: 0.5330 - val_accuracy: 0.7500\n",
      "Epoch 22/80\n",
      "145/145 [==============================] - 0s 542us/sample - loss: 0.4392 - accuracy: 0.8552 - val_loss: 0.5399 - val_accuracy: 0.8000\n",
      "Epoch 23/80\n",
      "145/145 [==============================] - 0s 595us/sample - loss: 0.4345 - accuracy: 0.8690 - val_loss: 0.5438 - val_accuracy: 0.7500\n",
      "Epoch 24/80\n",
      "145/145 [==============================] - 0s 640us/sample - loss: 0.4257 - accuracy: 0.8690 - val_loss: 0.5386 - val_accuracy: 0.7500\n",
      "Epoch 25/80\n",
      "145/145 [==============================] - 0s 545us/sample - loss: 0.4199 - accuracy: 0.8552 - val_loss: 0.5352 - val_accuracy: 0.8000\n",
      "Epoch 26/80\n",
      "145/145 [==============================] - 0s 590us/sample - loss: 0.4173 - accuracy: 0.8621 - val_loss: 0.5750 - val_accuracy: 0.7000\n",
      "Epoch 27/80\n",
      "145/145 [==============================] - 0s 612us/sample - loss: 0.4142 - accuracy: 0.8621 - val_loss: 0.5503 - val_accuracy: 0.7500\n",
      "Epoch 28/80\n",
      "145/145 [==============================] - 0s 596us/sample - loss: 0.3997 - accuracy: 0.8759 - val_loss: 0.5265 - val_accuracy: 0.7500\n",
      "Epoch 29/80\n",
      "145/145 [==============================] - 0s 533us/sample - loss: 0.3957 - accuracy: 0.8759 - val_loss: 0.5387 - val_accuracy: 0.8000\n",
      "Epoch 30/80\n",
      "145/145 [==============================] - 0s 601us/sample - loss: 0.3929 - accuracy: 0.8759 - val_loss: 0.5139 - val_accuracy: 0.8000\n",
      "Epoch 31/80\n",
      "145/145 [==============================] - 0s 623us/sample - loss: 0.3835 - accuracy: 0.8759 - val_loss: 0.5181 - val_accuracy: 0.8000\n",
      "Epoch 32/80\n",
      "145/145 [==============================] - 0s 581us/sample - loss: 0.3786 - accuracy: 0.8621 - val_loss: 0.5230 - val_accuracy: 0.7500\n",
      "Epoch 33/80\n",
      "145/145 [==============================] - 0s 607us/sample - loss: 0.3748 - accuracy: 0.8690 - val_loss: 0.5415 - val_accuracy: 0.7500\n",
      "Epoch 34/80\n",
      "145/145 [==============================] - 0s 585us/sample - loss: 0.3673 - accuracy: 0.8759 - val_loss: 0.5131 - val_accuracy: 0.8000\n",
      "Epoch 35/80\n",
      "145/145 [==============================] - 0s 661us/sample - loss: 0.3654 - accuracy: 0.8759 - val_loss: 0.5217 - val_accuracy: 0.7500\n",
      "Epoch 36/80\n",
      "145/145 [==============================] - 0s 578us/sample - loss: 0.3616 - accuracy: 0.8828 - val_loss: 0.5270 - val_accuracy: 0.7500\n",
      "Epoch 37/80\n",
      "145/145 [==============================] - 0s 610us/sample - loss: 0.3536 - accuracy: 0.8759 - val_loss: 0.5127 - val_accuracy: 0.7500\n",
      "Epoch 38/80\n",
      "145/145 [==============================] - 0s 557us/sample - loss: 0.3497 - accuracy: 0.8759 - val_loss: 0.5110 - val_accuracy: 0.8000\n",
      "Epoch 39/80\n",
      "145/145 [==============================] - 0s 562us/sample - loss: 0.3418 - accuracy: 0.8759 - val_loss: 0.5373 - val_accuracy: 0.7500\n",
      "Epoch 40/80\n",
      "145/145 [==============================] - 0s 572us/sample - loss: 0.3306 - accuracy: 0.8966 - val_loss: 0.5231 - val_accuracy: 0.7500\n",
      "Epoch 41/80\n",
      "145/145 [==============================] - 0s 597us/sample - loss: 0.3321 - accuracy: 0.8759 - val_loss: 0.5457 - val_accuracy: 0.7500\n",
      "Epoch 42/80\n",
      "145/145 [==============================] - 0s 597us/sample - loss: 0.3306 - accuracy: 0.8897 - val_loss: 0.5706 - val_accuracy: 0.7500\n",
      "Epoch 43/80\n",
      "145/145 [==============================] - 0s 571us/sample - loss: 0.3265 - accuracy: 0.8897 - val_loss: 0.5164 - val_accuracy: 0.7500\n",
      "Epoch 44/80\n",
      "145/145 [==============================] - 0s 668us/sample - loss: 0.3150 - accuracy: 0.9034 - val_loss: 0.5927 - val_accuracy: 0.7500\n",
      "Epoch 45/80\n",
      "145/145 [==============================] - 0s 536us/sample - loss: 0.3201 - accuracy: 0.8759 - val_loss: 0.6170 - val_accuracy: 0.7500\n",
      "Epoch 46/80\n",
      "145/145 [==============================] - 0s 548us/sample - loss: 0.3274 - accuracy: 0.8690 - val_loss: 0.5472 - val_accuracy: 0.7500\n",
      "Epoch 47/80\n",
      "145/145 [==============================] - 0s 657us/sample - loss: 0.3101 - accuracy: 0.8897 - val_loss: 0.5177 - val_accuracy: 0.7500\n",
      "Epoch 48/80\n",
      "145/145 [==============================] - 0s 587us/sample - loss: 0.3089 - accuracy: 0.8897 - val_loss: 0.5254 - val_accuracy: 0.7500\n",
      "Epoch 49/80\n",
      "145/145 [==============================] - 0s 629us/sample - loss: 0.3062 - accuracy: 0.8897 - val_loss: 0.5203 - val_accuracy: 0.7500\n",
      "Epoch 50/80\n",
      "145/145 [==============================] - 0s 573us/sample - loss: 0.2959 - accuracy: 0.8897 - val_loss: 0.5515 - val_accuracy: 0.7500\n",
      "Epoch 51/80\n",
      "145/145 [==============================] - 0s 647us/sample - loss: 0.2903 - accuracy: 0.8966 - val_loss: 0.5232 - val_accuracy: 0.7500\n",
      "Epoch 52/80\n",
      "145/145 [==============================] - 0s 566us/sample - loss: 0.2898 - accuracy: 0.8966 - val_loss: 0.5354 - val_accuracy: 0.7500\n",
      "Epoch 53/80\n",
      "145/145 [==============================] - 0s 543us/sample - loss: 0.2893 - accuracy: 0.8897 - val_loss: 0.5312 - val_accuracy: 0.7500\n",
      "Epoch 54/80\n",
      "145/145 [==============================] - 0s 676us/sample - loss: 0.2866 - accuracy: 0.8966 - val_loss: 0.5210 - val_accuracy: 0.7500\n",
      "Epoch 55/80\n",
      "145/145 [==============================] - 0s 593us/sample - loss: 0.2804 - accuracy: 0.9103 - val_loss: 0.5540 - val_accuracy: 0.7500\n",
      "Epoch 56/80\n"
     ]
    },
    {
     "name": "stdout",
     "output_type": "stream",
     "text": [
      "145/145 [==============================] - 0s 580us/sample - loss: 0.2774 - accuracy: 0.9103 - val_loss: 0.5412 - val_accuracy: 0.7500\n",
      "Epoch 57/80\n",
      "145/145 [==============================] - 0s 617us/sample - loss: 0.2719 - accuracy: 0.9034 - val_loss: 0.5284 - val_accuracy: 0.7500\n",
      "Epoch 58/80\n",
      "145/145 [==============================] - 0s 622us/sample - loss: 0.2649 - accuracy: 0.9103 - val_loss: 0.5380 - val_accuracy: 0.7500\n",
      "Epoch 59/80\n",
      "145/145 [==============================] - 0s 657us/sample - loss: 0.2600 - accuracy: 0.9103 - val_loss: 0.5383 - val_accuracy: 0.7000\n",
      "Epoch 60/80\n",
      "145/145 [==============================] - 0s 607us/sample - loss: 0.2684 - accuracy: 0.8897 - val_loss: 0.5652 - val_accuracy: 0.7500\n",
      "Epoch 61/80\n",
      "145/145 [==============================] - 0s 655us/sample - loss: 0.2612 - accuracy: 0.9172 - val_loss: 0.5465 - val_accuracy: 0.7500\n",
      "Epoch 62/80\n",
      "145/145 [==============================] - 0s 625us/sample - loss: 0.2589 - accuracy: 0.9103 - val_loss: 0.5530 - val_accuracy: 0.7500\n",
      "Epoch 63/80\n",
      "145/145 [==============================] - 0s 615us/sample - loss: 0.2536 - accuracy: 0.9103 - val_loss: 0.5542 - val_accuracy: 0.7500\n",
      "Epoch 64/80\n",
      "145/145 [==============================] - 0s 681us/sample - loss: 0.2540 - accuracy: 0.8897 - val_loss: 0.5599 - val_accuracy: 0.7500\n",
      "Epoch 65/80\n",
      "145/145 [==============================] - 0s 557us/sample - loss: 0.2472 - accuracy: 0.9241 - val_loss: 0.5437 - val_accuracy: 0.7500\n",
      "Epoch 66/80\n",
      "145/145 [==============================] - 0s 593us/sample - loss: 0.2422 - accuracy: 0.9241 - val_loss: 0.6205 - val_accuracy: 0.7000\n",
      "Epoch 67/80\n",
      "145/145 [==============================] - 0s 617us/sample - loss: 0.2440 - accuracy: 0.9310 - val_loss: 0.5827 - val_accuracy: 0.7500\n",
      "Epoch 68/80\n",
      "145/145 [==============================] - 0s 562us/sample - loss: 0.2340 - accuracy: 0.9172 - val_loss: 0.5680 - val_accuracy: 0.7500\n",
      "Epoch 69/80\n",
      "145/145 [==============================] - 0s 606us/sample - loss: 0.2382 - accuracy: 0.9172 - val_loss: 0.6051 - val_accuracy: 0.7500\n",
      "Epoch 70/80\n",
      "145/145 [==============================] - 0s 631us/sample - loss: 0.2360 - accuracy: 0.9310 - val_loss: 0.5780 - val_accuracy: 0.7500\n",
      "Epoch 71/80\n",
      "145/145 [==============================] - 0s 546us/sample - loss: 0.2336 - accuracy: 0.9241 - val_loss: 0.5783 - val_accuracy: 0.7000\n",
      "Epoch 72/80\n",
      "145/145 [==============================] - 0s 553us/sample - loss: 0.2273 - accuracy: 0.9172 - val_loss: 0.5762 - val_accuracy: 0.7000\n",
      "Epoch 73/80\n",
      "145/145 [==============================] - 0s 575us/sample - loss: 0.2229 - accuracy: 0.9103 - val_loss: 0.5792 - val_accuracy: 0.7000\n",
      "Epoch 74/80\n",
      "145/145 [==============================] - 0s 569us/sample - loss: 0.2203 - accuracy: 0.9241 - val_loss: 0.7204 - val_accuracy: 0.7000\n",
      "Epoch 75/80\n",
      "145/145 [==============================] - 0s 611us/sample - loss: 0.2321 - accuracy: 0.9310 - val_loss: 0.5725 - val_accuracy: 0.7000\n",
      "Epoch 76/80\n",
      "145/145 [==============================] - 0s 604us/sample - loss: 0.2200 - accuracy: 0.9103 - val_loss: 0.5857 - val_accuracy: 0.7500\n",
      "Epoch 77/80\n",
      "145/145 [==============================] - 0s 606us/sample - loss: 0.2242 - accuracy: 0.9172 - val_loss: 0.6020 - val_accuracy: 0.7500\n",
      "Epoch 78/80\n",
      "145/145 [==============================] - 0s 559us/sample - loss: 0.2161 - accuracy: 0.9310 - val_loss: 0.5797 - val_accuracy: 0.7000\n",
      "Epoch 79/80\n",
      "145/145 [==============================] - 0s 750us/sample - loss: 0.2166 - accuracy: 0.9172 - val_loss: 0.6412 - val_accuracy: 0.7500\n",
      "Epoch 80/80\n",
      "145/145 [==============================] - 0s 723us/sample - loss: 0.2074 - accuracy: 0.9310 - val_loss: 0.6215 - val_accuracy: 0.7500\n"
     ]
    }
   ],
   "source": [
    "history_validation = model.fit(train_data,\n",
    "    y_train,\n",
    "    epochs=epoch,\n",
    "    batch_size=8,\n",
    "    validation_data=(validation_data, y_train_v))\n"
   ]
  },
  {
   "cell_type": "code",
   "execution_count": null,
   "metadata": {},
   "outputs": [],
   "source": []
  }
 ],
 "metadata": {
  "kernelspec": {
   "display_name": "Python 3",
   "language": "python",
   "name": "python3"
  },
  "language_info": {
   "codemirror_mode": {
    "name": "ipython",
    "version": 3
   },
   "file_extension": ".py",
   "mimetype": "text/x-python",
   "name": "python",
   "nbconvert_exporter": "python",
   "pygments_lexer": "ipython3",
   "version": "3.7.3"
  }
 },
 "nbformat": 4,
 "nbformat_minor": 2
}
