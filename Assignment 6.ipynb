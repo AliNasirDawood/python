{
 "cells": [
  {
   "cell_type": "markdown",
   "metadata": {},
   "source": [
    "Question 1: Define Object Oriented Programming Language?\n",
    "Definition : One of the popular approach to solve a programming problem is by creating objects. This is known as Object-Oriented Programming (OOP).\n",
    "\n",
    "Question 2: List down the Benefits of OOP?\n",
    "Some benefits of OOP are listed below :\n",
    "\n",
    "It helps to model real life problem.\n",
    "Development is faster and cheaper, with better software maintainability.\n",
    "It provides a simple way to solve complex problems.\n",
    "This, in turn, leads to higher-quality software, which is also extensible with new methods and attributes.\n",
    "It helps in polymorphism, relates with many object.\n",
    "OOP offers easy to understand and a clear modular structure for programs.\n",
    "Objects created for Object-Oriented Programs can be reused in other programs.Thus it saves significant development cost.\n",
    "Large programs are difficult to write, but if the development and designing team follow OOPS concept then they can better design with minimum flaws.\n",
    "It also enhances program modularity because every object exists independently.\n",
    "Question 3: Differentiate between function and method?\n",
    "Function :\n",
    "A function is independent of an object . A function is a piece of code that is called by name. It can be passed data to operate on (i.e. the parameters) and can optionally return data (the return value). All data that is passed to a function is explicitly passed.\n",
    "\n",
    "Method :\n",
    "A method is on an object . A method is a piece of code that is called by a name that is associated with an object. In most respects it is identical to a function except for two key differences:\n",
    "\n",
    "A method is implicitly passed the object on which it was called.\n",
    "A method is able to operate on data that is contained within the class (remembering that an object is an instance of a class - the class is the definition, the object is an instance of that data).\n",
    "Question 4: Define the following terms:\n",
    "Class\n",
    "Object\n",
    "Attribute\n",
    "Behavior\n",
    "1. Class :\n",
    "A class is a user defined blueprint or prototype from which objects are created. It represents the set of properties or methods that are common to all objects of one type.\n",
    "\n",
    "2. Object :\n",
    "A unique instance of a data structure that's defined by its class. An object comprises both data members (class variables and instance variables) and methods.\n",
    "\n",
    "3. Attribute :\n",
    "An attribute in a class is a variable that is attached to the class.\n",
    "\n",
    "4. Behavior :\n",
    "It is represented by methods of an object. It also reflects the response of an object with other objects."
   ]
  },
  {
   "cell_type": "markdown",
   "metadata": {},
   "source": []
  },
  {
   "cell_type": "code",
   "execution_count": 3,
   "metadata": {},
   "outputs": [],
   "source": [
    "#Question 5: Write a code in python in which create a class named it Car which have 5 attributes such like (model, color and name etc.) and 3 methods. And create 5 object instance from that class."
   ]
  },
  {
   "cell_type": "code",
   "execution_count": 4,
   "metadata": {},
   "outputs": [],
   "source": [
    "class Car():\n",
    "    def __init__(self, brand, name, color, model, seatingCapacity):        \n",
    "        #Attributes >>>>>>>>>>>>>>>>>>>>>>>>>>>\n",
    "        self.brand = brand\n",
    "        self.name = name\n",
    "        self.color = color\n",
    "        self.model = model\n",
    "        self.seatingCapacity = seatingCapacity\n",
    "        \n",
    "        \n",
    "        \n",
    "    def CarDescription(self):\n",
    "        print(f\"The Brand of the car is {self.brand}\")\n",
    "        print(f\"The Name of the car is {self.name}\")\n",
    "        print(f\"The Color of the car is {self.color}\")\n",
    "        print(f\"The Model of the car is {self.model}\")\n",
    "        print(f\"The Seating Capacity of the car is {self.seatingCapacity}\")\n",
    "            \n",
    "    def moving(self):\n",
    "        print(f\"{self.name} is moving with speed\")\n",
    "            \n",
    "    def Applying_break(self):\n",
    "        print(f\"{self.name} is applying breakes\")\n",
    "        \n",
    "\n",
    "car1 = Car('Honda','Civic','Black','2019','4')\n",
    "car2 = Car('Toyota','Corolla','White','2018','4')\n",
    "car3 = Car('Suzuki','Cultus','Blue','2014','4')\n",
    "car4 = Car('Honda','Vesel','Gray','2019','4')\n",
    "car5 = Car('Toyota','Prius','Black','2019','4')"
   ]
  },
  {
   "cell_type": "code",
   "execution_count": 5,
   "metadata": {},
   "outputs": [
    {
     "name": "stdout",
     "output_type": "stream",
     "text": [
      "The Brand of the car is Honda\n",
      "The Name of the car is Civic\n",
      "The Color of the car is Black\n",
      "The Model of the car is 2019\n",
      "The Seating Capacity of the car is 4\n",
      "Civic is moving with speed\n",
      "Civic is applying breakes\n"
     ]
    }
   ],
   "source": [
    "car1.CarDescription()\n",
    "car1.moving()\n",
    "car1.Applying_break()"
   ]
  },
  {
   "cell_type": "code",
   "execution_count": null,
   "metadata": {},
   "outputs": [],
   "source": []
  }
 ],
 "metadata": {
  "kernelspec": {
   "display_name": "Python 3",
   "language": "python",
   "name": "python3"
  },
  "language_info": {
   "codemirror_mode": {
    "name": "ipython",
    "version": 3
   },
   "file_extension": ".py",
   "mimetype": "text/x-python",
   "name": "python",
   "nbconvert_exporter": "python",
   "pygments_lexer": "ipython3",
   "version": "3.7.3"
  }
 },
 "nbformat": 4,
 "nbformat_minor": 2
}
