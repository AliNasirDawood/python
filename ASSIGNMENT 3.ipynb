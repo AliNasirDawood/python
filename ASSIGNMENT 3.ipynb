{
 "cells": [
  {
   "cell_type": "code",
   "execution_count": null,
   "metadata": {},
   "outputs": [],
   "source": [
    "n = int(input('First Digit:'))\n",
    "m = int(input('Second Digit:'))\n",
    "\n",
    "print('1) Addition\\n2)Subtraction\\n3)Multiplication\\n4)Division\\n5)Power')\n",
    "choice = int(input('Choose operation no.:'))\n",
    "\n",
    "if choice == 1:\n",
    " print( n, \"+\", m, \"=\", n + m)\n",
    "elif choice == 2:\n",
    " print( n, \"-\", m, \"=\", n - m)\n",
    "elif choice == 3:\n",
    " print( n, \"*\", m, \"=\", n * m)\n",
    "elif choice == 4:\n",
    " print( n, \"/\", m, \"=\", n / m)\n",
    "elif choice == 5:\n",
    " print( n, \"^\", m, \"=\", (pow(n,m)))\n",
    "else:\n",
    " print(\"Wrong input\")\n",
    "\n",
    "\n"
   ]
  },
  {
   "cell_type": "code",
   "execution_count": 3,
   "metadata": {},
   "outputs": [
    {
     "name": "stdout",
     "output_type": "stream",
     "text": [
      "Robert is not a numeric value\n",
      "There is a numeric Value: 1\n",
      "Tommy is not a numeric value\n",
      "There is a numeric Value: 50\n",
      "twelve is not a numeric value\n"
     ]
    }
   ],
   "source": [
    "list = ['Robert',1,'Tommy',50,'twelve']\n",
    "\n",
    "intType = type(2)\n",
    "\n",
    "for i in list:\n",
    " if type(i) == intType:\n",
    "  print(\"There is a numeric Value:\", i)\n",
    " else:\n",
    "  print(i, \"is not a numeric value\")\n",
    "\n"
   ]
  },
  {
   "cell_type": "code",
   "execution_count": 2,
   "metadata": {},
   "outputs": [
    {
     "name": "stdout",
     "output_type": "stream",
     "text": [
      "{0: 1, 1: 10}\n",
      "{0: 1, 1: 10, 2: 100}\n"
     ]
    }
   ],
   "source": [
    "dict = {0:1, 1:10}\n",
    "print(dict)\n",
    "\n",
    "dict.update({2:100})\n",
    "print(dict)\n"
   ]
  },
  {
   "cell_type": "code",
   "execution_count": 1,
   "metadata": {},
   "outputs": [
    {
     "name": "stdout",
     "output_type": "stream",
     "text": [
      "{'p1': 400, 'p2': -5, 'p3': 204}\n",
      "599\n"
     ]
    }
   ],
   "source": [
    "d = {'p1':400,'p2':-5,'p3':204}\n",
    "print(d)\n",
    "print(sum(d.values()))\n"
   ]
  },
  {
   "cell_type": "code",
   "execution_count": 4,
   "metadata": {},
   "outputs": [
    {
     "name": "stdout",
     "output_type": "stream",
     "text": [
      "[2, 1, 3, 1, 3, 6, 6, 2]\n",
      "[1, 1, 2, 2, 3, 3, 6, 6]\n",
      "\n",
      "\n",
      "2\n",
      "2\n",
      "\n",
      "\n",
      "6\n",
      "6\n"
     ]
    }
   ],
   "source": [
    "array = [2,1,3,1,3,6,6,2]\n",
    "\n",
    "print(array)\n",
    "array.sort()\n",
    "print(array)\n",
    "\n",
    "for i in array:\n",
    " if array[i] == array[i+1]:\n",
    "  print(array[i])\n",
    " else:\n",
    "  print(\"\")\n"
   ]
  },
  {
   "cell_type": "code",
   "execution_count": 5,
   "metadata": {},
   "outputs": [
    {
     "name": "stdout",
     "output_type": "stream",
     "text": [
      "Yes there is value = 200\n",
      "{'a': 100, 'b': 200, 'c': 400}\n"
     ]
    }
   ],
   "source": [
    "dict = {\"a\":100, \"b\":200, \"c\":400}\n",
    "\n",
    "key = 'b'\n",
    "\n",
    "if key in dict.keys():\n",
    " print(\"Yes there is\", \"value =\", dict[key])\n",
    " print(dict)\n",
    "else:\n",
    " print('No there is not')\n",
    "\n"
   ]
  },
  {
   "cell_type": "code",
   "execution_count": null,
   "metadata": {},
   "outputs": [],
   "source": []
  }
 ],
 "metadata": {
  "kernelspec": {
   "display_name": "Python 3",
   "language": "python",
   "name": "python3"
  },
  "language_info": {
   "codemirror_mode": {
    "name": "ipython",
    "version": 3
   },
   "file_extension": ".py",
   "mimetype": "text/x-python",
   "name": "python",
   "nbconvert_exporter": "python",
   "pygments_lexer": "ipython3",
   "version": "3.7.3"
  }
 },
 "nbformat": 4,
 "nbformat_minor": 2
}
